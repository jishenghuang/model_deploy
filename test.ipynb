{
 "cells": [
  {
   "cell_type": "code",
   "execution_count": 7,
   "metadata": {},
   "outputs": [
    {
     "name": "stdout",
     "output_type": "stream",
     "text": [
      "CUDA Version:  11.7\n",
      "CuDNN Version:  8500\n",
      "torch Version:  1.13.0\n",
      "ort Version:  1.20.1\n"
     ]
    }
   ],
   "source": [
    "# import onnx\n",
    "import torch\n",
    "import onnxruntime as ort\n",
    "# import tensorrt as trt\n",
    "# import torchtext\n",
    "\n",
    "# print('torchText:', torchtext.__version__)\n",
    "# print(\"trt Version: \", trt.__version__)\n",
    "print(\"CUDA Version: \", torch.version.cuda)\n",
    "print(\"CuDNN Version: \", torch.backends.cudnn.version())\n",
    "print(\"torch Version: \", torch.__version__)\n",
    "# print(\"onnx Version: \", onnx.__version__)\n",
    "print(\"ort Version: \", ort.__version__)\n",
    "# 检查是否加载了 GPU 版本\n",
    "# providers = ort.get_available_providers()\n",
    "# print(\"Available providers:\", providers)"
   ]
  },
  {
   "cell_type": "code",
   "execution_count": 1,
   "metadata": {},
   "outputs": [
    {
     "name": "stdout",
     "output_type": "stream",
     "text": [
      "True\n"
     ]
    }
   ],
   "source": [
    "import tensorrt as trt\n",
    "print(trt.Builder(trt.Logger()).platform_has_fast_int8)"
   ]
  },
  {
   "cell_type": "code",
   "execution_count": null,
   "metadata": {},
   "outputs": [],
   "source": [
    "import torch\n",
    "from torch.quantization.observer import MinMaxObserver, MovingAverageMinMaxObserver, HistogramObserver\n",
    "C, L = 2, 2\n",
    "normal = torch.distributions.normal.Normal(0,1)\n",
    "inputs = [normal.sample((C, L)), normal.sample((C, L))]\n",
    "print(inputs)\n",
    "\n",
    "observers = [MinMaxObserver(), MovingAverageMinMaxObserver(), HistogramObserver()]\n",
    "for obs in observers:\n",
    "  for x in inputs: \n",
    "    obs(x) \n",
    "    print(obs.__class__.__name__, obs.calculate_qparams())"
   ]
  },
  {
   "cell_type": "code",
   "execution_count": null,
   "metadata": {},
   "outputs": [],
   "source": [
    "import torch\n",
    "import numpy as np\n",
    "import matplotlib.pyplot as plt\n",
    "\n",
    "act =  torch.distributions.pareto.Pareto(1, 10).sample((1,1024))\n",
    "weights = torch.distributions.normal.Normal(0, 0.12).sample((3, 64, 7, 7)).flatten()\n",
    "\n",
    "def get_symmetric_range(x):\n",
    "    beta = torch.max(x.max(), x.min().abs())\n",
    "    return -beta.item(), beta.item()\n",
    "\n",
    "def get_affine_range(x):\n",
    "    return x.min().item(), x.max().item()\n",
    "\n",
    "def plot(plt, data, scheme):\n",
    "    boundaries = get_affine_range(data) if scheme == 'affine' else get_symmetric_range(data)\n",
    "    a, _, _ = plt.hist(data, density=True, bins=100)\n",
    "    ymin, ymax = np.quantile(a[a>0], [0.25, 0.95])\n",
    "    plt.vlines(x=boundaries, ls='--', colors='purple', ymin=ymin, ymax=ymax)\n",
    "\n",
    "plt.figure(dpi=200)\n",
    "fig, axs = plt.subplots(2,2)\n",
    "plot(axs[0, 0], act, 'affine')\n",
    "axs[0, 0].set_title(\"Activation, Affine-Quantized\")\n",
    "\n",
    "plot(axs[0, 1], act, 'symmetric')\n",
    "axs[0, 1].set_title(\"Activation, Symmetric-Quantized\")\n",
    "\n",
    "plot(axs[1, 0], weights, 'affine')\n",
    "axs[1, 0].set_title(\"Weights, Affine-Quantized\")\n",
    "\n",
    "plot(axs[1, 1], weights, 'symmetric')\n",
    "axs[1, 1].set_title(\"Weights, Symmetric-Quantized\")\n",
    "plt.show()"
   ]
  },
  {
   "cell_type": "code",
   "execution_count": null,
   "metadata": {},
   "outputs": [],
   "source": [
    "import torch\n",
    "from torch.quantization.observer import MinMaxObserver, MovingAverageMinMaxObserver, HistogramObserver\n",
    "torch.manual_seed(1)\n",
    "# C, L = 3, 4\n",
    "# normal = torch.distributions.normal.Normal(0,1)\n",
    "# inputs = [normal.sample((C, L)), normal.sample((C, L))]\n",
    "rand_tensor = torch.randint(-255, 256, (3, 4))\n",
    "print(rand_tensor)\n",
    "inputs = [rand_tensor]\n",
    "for qscheme in [torch.per_tensor_affine, torch.per_tensor_symmetric]:\n",
    "  obs = MinMaxObserver(qscheme=qscheme)\n",
    "  for x in inputs: obs(x)\n",
    "  print(f\"Qscheme: {qscheme} | {obs.calculate_qparams()}\")"
   ]
  },
  {
   "cell_type": "code",
   "execution_count": null,
   "metadata": {},
   "outputs": [],
   "source": [
    "import inspect\n",
    "import torch\n",
    "\n",
    "def log(*msg):\n",
    "    stack = inspect.stack()\n",
    "    print(stack)\n",
    "log(\"11\", \"22\", torch.tensor([0.0]), torch.tensor([0.0]).shape)\n"
   ]
  },
  {
   "cell_type": "code",
   "execution_count": null,
   "metadata": {},
   "outputs": [],
   "source": [
    "from torchvision import datasets\n",
    "from torch.utils.data import DataLoader\n",
    "\n",
    "# 加载 ImageNet 验证集\n",
    "imagenet_data = datasets.ImageNet(root=\"model_deploy/data\", split='val')\n",
    "data_loader = DataLoader(imagenet_data, batch_size=32, shuffle=False)"
   ]
  }
 ],
 "metadata": {
  "kernelspec": {
   "display_name": "q_py310",
   "language": "python",
   "name": "python3"
  },
  "language_info": {
   "codemirror_mode": {
    "name": "ipython",
    "version": 3
   },
   "file_extension": ".py",
   "mimetype": "text/x-python",
   "name": "python",
   "nbconvert_exporter": "python",
   "pygments_lexer": "ipython3",
   "version": "3.10.16"
  }
 },
 "nbformat": 4,
 "nbformat_minor": 2
}
